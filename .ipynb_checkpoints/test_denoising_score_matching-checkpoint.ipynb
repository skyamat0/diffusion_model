{
 "cells": [
  {
   "cell_type": "code",
   "execution_count": 2,
   "id": "c5064eb9-4874-49b4-8385-b95ed1d5a9f2",
   "metadata": {},
   "outputs": [
    {
     "name": "stdout",
     "output_type": "stream",
     "text": [
      "Downloading http://yann.lecun.com/exdb/mnist/train-images-idx3-ubyte.gz\n",
      "Failed to download (trying next):\n",
      "<urlopen error [Errno 60] Operation timed out>\n",
      "\n",
      "Downloading https://ossci-datasets.s3.amazonaws.com/mnist/train-images-idx3-ubyte.gz\n",
      "Downloading https://ossci-datasets.s3.amazonaws.com/mnist/train-images-idx3-ubyte.gz to ./data/MNIST/raw/train-images-idx3-ubyte.gz\n"
     ]
    },
    {
     "name": "stderr",
     "output_type": "stream",
     "text": [
      "100.0%\n"
     ]
    },
    {
     "name": "stdout",
     "output_type": "stream",
     "text": [
      "Extracting ./data/MNIST/raw/train-images-idx3-ubyte.gz to ./data/MNIST/raw\n",
      "\n",
      "Downloading http://yann.lecun.com/exdb/mnist/train-labels-idx1-ubyte.gz\n",
      "Failed to download (trying next):\n",
      "<urlopen error [Errno 60] Operation timed out>\n",
      "\n",
      "Downloading https://ossci-datasets.s3.amazonaws.com/mnist/train-labels-idx1-ubyte.gz\n",
      "Downloading https://ossci-datasets.s3.amazonaws.com/mnist/train-labels-idx1-ubyte.gz to ./data/MNIST/raw/train-labels-idx1-ubyte.gz\n"
     ]
    },
    {
     "name": "stderr",
     "output_type": "stream",
     "text": [
      "100.0%\n"
     ]
    },
    {
     "name": "stdout",
     "output_type": "stream",
     "text": [
      "Extracting ./data/MNIST/raw/train-labels-idx1-ubyte.gz to ./data/MNIST/raw\n",
      "\n",
      "Downloading http://yann.lecun.com/exdb/mnist/t10k-images-idx3-ubyte.gz\n",
      "Failed to download (trying next):\n",
      "<urlopen error [Errno 60] Operation timed out>\n",
      "\n",
      "Downloading https://ossci-datasets.s3.amazonaws.com/mnist/t10k-images-idx3-ubyte.gz\n",
      "Downloading https://ossci-datasets.s3.amazonaws.com/mnist/t10k-images-idx3-ubyte.gz to ./data/MNIST/raw/t10k-images-idx3-ubyte.gz\n"
     ]
    },
    {
     "name": "stderr",
     "output_type": "stream",
     "text": [
      "100.0%\n"
     ]
    },
    {
     "name": "stdout",
     "output_type": "stream",
     "text": [
      "Extracting ./data/MNIST/raw/t10k-images-idx3-ubyte.gz to ./data/MNIST/raw\n",
      "\n",
      "Downloading http://yann.lecun.com/exdb/mnist/t10k-labels-idx1-ubyte.gz\n",
      "Failed to download (trying next):\n",
      "<urlopen error [Errno 60] Operation timed out>\n",
      "\n",
      "Downloading https://ossci-datasets.s3.amazonaws.com/mnist/t10k-labels-idx1-ubyte.gz\n",
      "Downloading https://ossci-datasets.s3.amazonaws.com/mnist/t10k-labels-idx1-ubyte.gz to ./data/MNIST/raw/t10k-labels-idx1-ubyte.gz\n"
     ]
    },
    {
     "name": "stderr",
     "output_type": "stream",
     "text": [
      "100.0%"
     ]
    },
    {
     "name": "stdout",
     "output_type": "stream",
     "text": [
      "Extracting ./data/MNIST/raw/t10k-labels-idx1-ubyte.gz to ./data/MNIST/raw\n",
      "\n"
     ]
    },
    {
     "name": "stderr",
     "output_type": "stream",
     "text": [
      "\n"
     ]
    }
   ],
   "source": [
    "import torch\n",
    "import torch.optim as optim\n",
    "import torchvision\n",
    "import torchvision.transforms as transforms\n",
    "from denoising_score import ScoreNet, dsm\n",
    "\n",
    "#訓練データ\n",
    "train_dataset = torchvision.datasets.MNIST(root='./data',\n",
    "                                           train=True,\n",
    "                                           transform=transforms.ToTensor(),\n",
    "                                           download = True)\n",
    "#検証データ\n",
    "test_dataset = torchvision.datasets.MNIST(root='./data',\n",
    "                                           train=False,\n",
    "                                           transform=transforms.ToTensor(),\n",
    "                                           download = True)"
   ]
  },
  {
   "cell_type": "code",
   "execution_count": 7,
   "id": "edec948f-01f8-43d0-9c0c-b29326511d1e",
   "metadata": {},
   "outputs": [],
   "source": [
    "batch_size = 600\n",
    "train_loader = torch.utils.data.DataLoader(\n",
    "    train_dataset,         \n",
    "    batch_size=batch_size,  \n",
    "    shuffle=True,          \n",
    ")\n",
    "\n",
    "test_loader = torch.utils.data.DataLoader(\n",
    "    test_dataset,\n",
    "    batch_size=batch_size,\n",
    "    shuffle=True,\n",
    ")"
   ]
  },
  {
   "cell_type": "code",
   "execution_count": 44,
   "id": "bb48e9a8-d857-4fbe-91d4-0f99db5bca69",
   "metadata": {},
   "outputs": [
    {
     "name": "stdout",
     "output_type": "stream",
     "text": [
      "cpu\n",
      "0\n",
      "epoch=1, loss=99.6521987915039\n",
      "1\n",
      "epoch=2, loss=99.9368896484375\n",
      "2\n",
      "epoch=3, loss=100.53543090820312\n",
      "3\n",
      "epoch=4, loss=99.9664535522461\n",
      "4\n",
      "epoch=5, loss=100.26649475097656\n",
      "5\n",
      "epoch=6, loss=99.77754974365234\n",
      "6\n",
      "epoch=7, loss=99.706298828125\n",
      "7\n",
      "epoch=8, loss=100.05878448486328\n",
      "8\n",
      "epoch=9, loss=100.262939453125\n",
      "9\n",
      "epoch=10, loss=100.1564712524414\n"
     ]
    }
   ],
   "source": [
    "device = torch.device('cuda:0' if torch.cuda.is_available() else 'cpu')\n",
    "print(device)\n",
    "epochs = 10\n",
    "sigma = 0.1\n",
    "score = ScoreNet(784)\n",
    "optimizer = torch.optim.Adam(score.parameters(), lr=0.005)\n",
    "for epoch in range(epochs):\n",
    "    for x, _ in train_loader:\n",
    "        x = x.view(x.size(0), -1).to(device)\n",
    "        x_tilde = x + torch.randn_like(x) * sigma\n",
    "        target = -(x_tilde - x)/(sigma**2)\n",
    "        s_theta = score(x_tilde)\n",
    "        loss = dsm(s_theta, target)\n",
    "        optimizer.zero_grad()\n",
    "        loss.backward()\n",
    "        optimizer.step()\n",
    "    if epoch == 0 or (epoch+1) %1 == 0:\n",
    "        print(f\"epoch={epoch+1}, loss={loss.item()}\")\n",
    "torch.save(score, 'model.pth')"
   ]
  },
  {
   "cell_type": "code",
   "execution_count": 56,
   "id": "120a2912-0360-4bd5-8d1d-4c88bad6ee32",
   "metadata": {},
   "outputs": [
    {
     "data": {
      "image/png": "[encoded data removed]",
      "text/plain": [
       "<Figure size 640x480 with 1 Axes>"
      ]
     },
     "metadata": {},
     "output_type": "display_data"
    }
   ],
   "source": [
    "from sampling import langevin_step as step\n",
    "x = torch.randn(784)\n",
    "alpha = 0.01\n",
    "K = 10000\n",
    "samples = []\n",
    "plt.imshow(x.clone().view(28,28).detach().numpy())\n",
    "for i in range(K):\n",
    "    if i == 0 or (i+1) % 20 == 0:\n",
    "        samples.append(x)\n",
    "    x = step(x, score, alpha)\n",
    "plt.show()"
   ]
  },
  {
   "cell_type": "code",
   "execution_count": 54,
   "id": "e2368a02-1af0-4c41-9c23-757c4acc6301",
   "metadata": {},
   "outputs": [
    {
     "data": {
      "text/plain": [
       "<matplotlib.image.AxesImage at 0x29d354310>"
      ]
     },
     "execution_count": 54,
     "metadata": {},
     "output_type": "execute_result"
    },
    {
     "data": {
      "image/png": "[encoded data removed]",
      "text/plain": [
       "<Figure size 640x480 with 1 Axes>"
      ]
     },
     "metadata": {},
     "output_type": "display_data"
    }
   ],
   "source": [
    "import matplotlib.pyplot as plt\n",
    "_ = x.view(28,28).detach().numpy()\n",
    "plt.imshow(_)"
   ]
  }
 ],
 "metadata": {
  "kernelspec": {
   "display_name": "Python 3 (ipykernel)",
   "language": "python",
   "name": "python3"
  },
  "language_info": {
   "codemirror_mode": {
    "name": "ipython",
    "version": 3
   },
   "file_extension": ".py",
   "mimetype": "text/x-python",
   "name": "python",
   "nbconvert_exporter": "python",
   "pygments_lexer": "ipython3",
   "version": "3.11.4"
  }
 },
 "nbformat": 4,
 "nbformat_minor": 5
}
